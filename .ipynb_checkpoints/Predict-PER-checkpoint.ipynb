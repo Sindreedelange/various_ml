{
 "cells": [
  {
   "cell_type": "markdown",
   "metadata": {},
   "source": [
    "## Import and combine all csv files"
   ]
  },
  {
   "cell_type": "code",
   "execution_count": 1,
   "metadata": {
    "collapsed": true
   },
   "outputs": [],
   "source": [
    "import pandas as pd\n",
    "import numpy as np\n",
    "\n",
    "PATH_TOTAL = (\"data/csv/totals/\")\n",
    "PATH_ADVANCED = (\"data/csv/advanced/\")"
   ]
  },
  {
   "cell_type": "code",
   "execution_count": 2,
   "metadata": {
    "collapsed": true
   },
   "outputs": [],
   "source": [
    "import glob\n",
    "allFiles = glob.glob(PATH_ADVANCED + \"leagues_NBA_*_advanced.csv\")\n",
    "frame = pd.DataFrame()\n",
    "list_ = []\n",
    "for file_ in allFiles:\n",
    "    df = pd.read_csv(file_,index_col=None)\n",
    "    list_.append(df)\n",
    "frame = pd.concat(list_,  ignore_index=True)"
   ]
  },
  {
   "cell_type": "markdown",
   "metadata": {},
   "source": [
    "## Get an overview of the data "
   ]
  },
  {
   "cell_type": "code",
   "execution_count": 3,
   "metadata": {},
   "outputs": [
    {
     "name": "stdout",
     "output_type": "stream",
     "text": [
      "<class 'pandas.core.frame.DataFrame'>\n",
      "RangeIndex: 14636 entries, 0 to 14635\n",
      "Data columns (total 31 columns):\n",
      "0              7281 non-null float64\n",
      "0.1            7281 non-null float64\n",
      "3PAr           14616 non-null object\n",
      "AST%           14636 non-null object\n",
      "Age            14636 non-null object\n",
      "BLK%           14636 non-null object\n",
      "BPM            14636 non-null object\n",
      "DBPM           14636 non-null object\n",
      "DRB%           14636 non-null object\n",
      "DWS            14636 non-null object\n",
      "FTr            14616 non-null object\n",
      "G              14636 non-null object\n",
      "MP             14636 non-null object\n",
      "OBPM           14636 non-null object\n",
      "ORB%           14636 non-null object\n",
      "OWS            14636 non-null object\n",
      "PER            14636 non-null object\n",
      "Player         14636 non-null object\n",
      "Pos            14636 non-null object\n",
      "Rk             14636 non-null object\n",
      "STL%           14636 non-null object\n",
      "TOV%           14625 non-null object\n",
      "TRB%           14636 non-null object\n",
      "TS%            14622 non-null object\n",
      "Tm             14636 non-null object\n",
      "USG%           14636 non-null object\n",
      "Unnamed: 19    0 non-null float64\n",
      "Unnamed: 24    0 non-null float64\n",
      "VORP           14636 non-null object\n",
      "WS             14636 non-null object\n",
      "WS/48          14636 non-null object\n",
      "dtypes: float64(4), object(27)\n",
      "memory usage: 3.5+ MB\n"
     ]
    }
   ],
   "source": [
    "frame.info()"
   ]
  },
  {
   "cell_type": "markdown",
   "metadata": {},
   "source": [
    "## frame.head()"
   ]
  },
  {
   "cell_type": "markdown",
   "metadata": {},
   "source": [
    "## Remove duplicates\n",
    "\n",
    "Considering the data is from 1981 to 2015 it will contain duplicates for each player.\n",
    "One intereseting approach would be to compute the average of each player, and calucate career PER, \n",
    "but for the sake of simplicity I compute the PER for their first season"
   ]
  },
  {
   "cell_type": "markdown",
   "metadata": {
    "collapsed": true
   },
   "source": [
    "non_duplicates = frame.drop_duplicates(subset=['Player'])\n",
    "\n",
    "Update: Not necessary, because eliminates a lot of relevant data - rather, delete det \"Player\" column\n",
    "Resulted in 0.1 increase "
   ]
  },
  {
   "cell_type": "markdown",
   "metadata": {},
   "source": [
    "## Need the numerical values"
   ]
  },
  {
   "cell_type": "code",
   "execution_count": 6,
   "metadata": {
    "collapsed": true
   },
   "outputs": [],
   "source": [
    "numerical_data_frames = ['3PAr', 'AST%', 'BLK%', 'BPM', 'DBPM', 'DWS', 'FTr', 'G', 'MP', 'OBPM', 'ORB%', 'OWS', \n",
    "                         'PER', 'Rk', 'STL%', 'TOV%', 'TRB%', 'TS%', 'USG%', 'VORP', 'WS', 'WS/48']\n",
    "num_data = frame[numerical_data_frames]"
   ]
  },
  {
   "cell_type": "markdown",
   "metadata": {},
   "source": [
    "## Find columns with missing values "
   ]
  },
  {
   "cell_type": "code",
   "execution_count": 7,
   "metadata": {},
   "outputs": [
    {
     "data": {
      "text/plain": [
       "3PAr      True\n",
       "AST%     False\n",
       "BLK%     False\n",
       "BPM      False\n",
       "DBPM     False\n",
       "DWS      False\n",
       "FTr       True\n",
       "G        False\n",
       "MP       False\n",
       "OBPM     False\n",
       "ORB%     False\n",
       "OWS      False\n",
       "PER      False\n",
       "Rk       False\n",
       "STL%     False\n",
       "TOV%      True\n",
       "TRB%     False\n",
       "TS%       True\n",
       "USG%     False\n",
       "VORP     False\n",
       "WS       False\n",
       "WS/48    False\n",
       "dtype: bool"
      ]
     },
     "execution_count": 7,
     "metadata": {},
     "output_type": "execute_result"
    }
   ],
   "source": [
    "num_data.isnull().any()"
   ]
  },
  {
   "cell_type": "markdown",
   "metadata": {},
   "source": [
    "## Replacing missing values with the number 0 and verifying that no values are missing "
   ]
  },
  {
   "cell_type": "code",
   "execution_count": 8,
   "metadata": {},
   "outputs": [
    {
     "data": {
      "text/plain": [
       "3PAr     False\n",
       "AST%     False\n",
       "BLK%     False\n",
       "BPM      False\n",
       "DBPM     False\n",
       "DWS      False\n",
       "FTr      False\n",
       "G        False\n",
       "MP       False\n",
       "OBPM     False\n",
       "ORB%     False\n",
       "OWS      False\n",
       "PER      False\n",
       "Rk       False\n",
       "STL%     False\n",
       "TOV%     False\n",
       "TRB%     False\n",
       "TS%      False\n",
       "USG%     False\n",
       "VORP     False\n",
       "WS       False\n",
       "WS/48    False\n",
       "dtype: bool"
      ]
     },
     "execution_count": 8,
     "metadata": {},
     "output_type": "execute_result"
    }
   ],
   "source": [
    "num_data = num_data.fillna(0)\n",
    "num_data.isnull().any()"
   ]
  },
  {
   "cell_type": "markdown",
   "metadata": {},
   "source": [
    "## If there are any strings, replace with 0"
   ]
  },
  {
   "cell_type": "code",
   "execution_count": 9,
   "metadata": {
    "collapsed": true
   },
   "outputs": [],
   "source": [
    "cols = num_data.columns\n",
    "num_data[cols] = num_data[cols].apply(pd.to_numeric, errors='coerce').fillna(0)"
   ]
  },
  {
   "cell_type": "markdown",
   "metadata": {},
   "source": [
    "## Standard train and fit, using a LinearRegression model"
   ]
  },
  {
   "cell_type": "code",
   "execution_count": 10,
   "metadata": {
    "collapsed": true
   },
   "outputs": [],
   "source": [
    "from sklearn.model_selection import train_test_split\n",
    "X = num_data.drop('PER', axis=1)\n",
    "y = num_data[['PER']]\n",
    "X_train, X_test, y_train, y_test = train_test_split(X, y, test_size=0.2)"
   ]
  },
  {
   "cell_type": "code",
   "execution_count": 11,
   "metadata": {},
   "outputs": [
    {
     "data": {
      "text/plain": [
       "0.97233623078908282"
      ]
     },
     "execution_count": 11,
     "metadata": {},
     "output_type": "execute_result"
    }
   ],
   "source": [
    "from sklearn.linear_model import LinearRegression\n",
    "lin_reg = LinearRegression()\n",
    "lin_reg.fit(X_train, y_train)\n",
    "\n",
    "lin_reg.predict(X_test)\n",
    "lin_reg.score(X_test, y_test)"
   ]
  },
  {
   "cell_type": "markdown",
   "metadata": {},
   "source": [
    "## Trying an example from GitHub"
   ]
  },
  {
   "cell_type": "code",
   "execution_count": 12,
   "metadata": {},
   "outputs": [
    {
     "name": "stderr",
     "output_type": "stream",
     "text": [
      "C:\\Users\\sinde\\Anaconda3\\lib\\site-packages\\sklearn\\neural_network\\multilayer_perceptron.py:1306: DataConversionWarning: A column-vector y was passed when a 1d array was expected. Please change the shape of y to (n_samples, ), for example using ravel().\n",
      "  y = column_or_1d(y, warn=True)\n"
     ]
    },
    {
     "data": {
      "text/plain": [
       "0.98051806184336787"
      ]
     },
     "execution_count": 12,
     "metadata": {},
     "output_type": "execute_result"
    }
   ],
   "source": [
    "from sklearn.pipeline import make_pipeline                                                                                               \n",
    "from sklearn.preprocessing import StandardScaler                                                \n",
    "from sklearn.neural_network import MLPRegressor                         \n",
    "\n",
    "pipeline = make_pipeline(StandardScaler(),                                                      \n",
    "                         MLPRegressor(solver='lbfgs', hidden_layer_sizes=50))                   \n",
    "pipeline.fit(X_train, y_train)                                                                  \n",
    "pipeline.score(X_test, y_test)"
   ]
  },
  {
   "cell_type": "code",
   "execution_count": null,
   "metadata": {
    "collapsed": true
   },
   "outputs": [],
   "source": []
  }
 ],
 "metadata": {
  "kernelspec": {
   "display_name": "Python 3",
   "language": "python",
   "name": "python3"
  },
  "language_info": {
   "codemirror_mode": {
    "name": "ipython",
    "version": 3
   },
   "file_extension": ".py",
   "mimetype": "text/x-python",
   "name": "python",
   "nbconvert_exporter": "python",
   "pygments_lexer": "ipython3",
   "version": "3.6.2"
  }
 },
 "nbformat": 4,
 "nbformat_minor": 2
}
